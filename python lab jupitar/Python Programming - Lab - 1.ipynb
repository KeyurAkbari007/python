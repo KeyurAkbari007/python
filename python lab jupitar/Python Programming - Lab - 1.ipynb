{
 "cells": [
  {
   "cell_type": "markdown",
   "metadata": {},
   "source": [
    "<a href='https://www.darshan.ac.in/'> <img src='https://www.darshan.ac.in/Content/media/DU_Logo.svg' width=\"250\" height=\"300\"/></a>\n",
    "<pre>\n",
    "<center><b><h1>Python Programming - 2101CS405</b></center>\n",
    "<center><b><h1>Lab - 1</b></center>    \n",
    "<pre>"
   ]
  },
  {
   "cell_type": "markdown",
   "metadata": {},
   "source": [
    "### 01) WAP to print “Hello World”"
   ]
  },
  {
   "cell_type": "code",
   "execution_count": 1,
   "metadata": {},
   "outputs": [
    {
     "name": "stdout",
     "output_type": "stream",
     "text": [
      "Hello World\n"
     ]
    }
   ],
   "source": [
    "print(\"Hello World\")"
   ]
  },
  {
   "cell_type": "markdown",
   "metadata": {},
   "source": [
    "### 02) WAP to print your address i) using single print ii) using multiple print"
   ]
  },
  {
   "cell_type": "code",
   "execution_count": 2,
   "metadata": {},
   "outputs": [
    {
     "name": "stdout",
     "output_type": "stream",
     "text": [
      "rajkot\n",
      "rajkot gujarat\n"
     ]
    }
   ],
   "source": [
    "print(\"rajkot\")\n",
    "print(\"rajkot\",\"gujarat\")"
   ]
  },
  {
   "cell_type": "markdown",
   "metadata": {},
   "source": [
    "### 03) WAP to print addition of 2 numbers (without input function)"
   ]
  },
  {
   "cell_type": "code",
   "execution_count": 4,
   "metadata": {},
   "outputs": [
    {
     "name": "stdout",
     "output_type": "stream",
     "text": [
      "11\n"
     ]
    }
   ],
   "source": [
    "print(5+6)"
   ]
  },
  {
   "cell_type": "code",
   "execution_count": 5,
   "metadata": {},
   "outputs": [
    {
     "name": "stdout",
     "output_type": "stream",
     "text": [
      "15\n"
     ]
    }
   ],
   "source": [
    "print(9+6)"
   ]
  },
  {
   "cell_type": "markdown",
   "metadata": {},
   "source": [
    "### 04) WAP to calculate and print average of 2 numbers (without input function)"
   ]
  },
  {
   "cell_type": "code",
   "execution_count": 7,
   "metadata": {},
   "outputs": [
    {
     "name": "stdout",
     "output_type": "stream",
     "text": [
      "5.5\n"
     ]
    }
   ],
   "source": [
    "avg=(5+6)/2\n",
    "print(avg)"
   ]
  },
  {
   "cell_type": "markdown",
   "metadata": {},
   "source": [
    "### 05) WAP to add two number entered by user."
   ]
  },
  {
   "cell_type": "code",
   "execution_count": 8,
   "metadata": {},
   "outputs": [
    {
     "name": "stdout",
     "output_type": "stream",
     "text": [
      "enter value of a5\n",
      "enter value of b6\n",
      "11\n"
     ]
    }
   ],
   "source": [
    "a=int(input(\"enter value of a\"))\n",
    "b=int(input(\"enter value of b\"))\n",
    "print(a+b)"
   ]
  },
  {
   "cell_type": "markdown",
   "metadata": {},
   "source": [
    "### 06) WAP to calculate simple interest."
   ]
  },
  {
   "cell_type": "code",
   "execution_count": 9,
   "metadata": {},
   "outputs": [
    {
     "name": "stdout",
     "output_type": "stream",
     "text": [
      "The simple interest is: 12.0\n"
     ]
    }
   ],
   "source": [
    "P = 300\n",
    "R = 1\n",
    "T = 4\n",
    "Simple_interest = (P * R * T) / 100\n",
    "print(\"The simple interest is:\", Simple_interest)"
   ]
  },
  {
   "cell_type": "markdown",
   "metadata": {},
   "source": [
    "### 07) WAP Calculate Area and Circumfrence of Circle"
   ]
  },
  {
   "cell_type": "code",
   "execution_count": 10,
   "metadata": {},
   "outputs": [
    {
     "name": "stdout",
     "output_type": "stream",
     "text": [
      "12.56\n",
      "12.56\n"
     ]
    }
   ],
   "source": [
    "r=2\n",
    "print(3.14*r*r)\n",
    "print(2*3.14*r)"
   ]
  },
  {
   "cell_type": "markdown",
   "metadata": {},
   "source": [
    "7) WAP to print Multiplication table of given number without using loops."
   ]
  },
  {
   "cell_type": "code",
   "execution_count": 12,
   "metadata": {},
   "outputs": [
    {
     "name": "stdout",
     "output_type": "stream",
     "text": [
      "Enter n : 5\n",
      "Multiplication Table\n",
      "5 * 1 =  5\n",
      "5 * 2 =  10\n",
      "5 * 3 =  15\n",
      "5 * 4 =  20\n",
      "5 * 5 =  25\n",
      "5 * 6 =  30\n",
      "5 * 7 =  35\n",
      "5 * 8 =  40\n",
      "5 * 9 =  45\n",
      "5 * 10 =  50\n"
     ]
    }
   ],
   "source": [
    "n = int(input(\"Enter n : \"))\n",
    "print(\"Multiplication Table\")\n",
    "\n",
    "print('%(2)s * 1 =  %(1)s' % { '2': n, '1': n*1})\n",
    "print('%(2)s * 2 =  %(1)s' % { '2': n, '1': n*2})\n",
    "print('%(2)s * 3 =  %(1)s' % { '2': n, '1': n*3})\n",
    "print('%(2)s * 4 =  %(1)s' % { '2': n, '1': n*4})\n",
    "print('%(2)s * 5 =  %(1)s' % { '2': n, '1': n*5})\n",
    "print('%(2)s * 6 =  %(1)s' % { '2': n, '1': n*6})\n",
    "print('%(2)s * 7 =  %(1)s' % { '2': n, '1': n*7})\n",
    "print('%(2)s * 8 =  %(1)s' % { '2': n, '1': n*8})\n",
    "print('%(2)s * 9 =  %(1)s' % { '2': n, '1': n*9})\n",
    "print('%(2)s * 10 =  %(1)s' % { '2': n, '1': n*10})"
   ]
  },
  {
   "cell_type": "markdown",
   "metadata": {},
   "source": [
    "### 09) WAP to calculate Area of Triangle (hint: a = h * b * 0.5)"
   ]
  },
  {
   "cell_type": "code",
   "execution_count": 13,
   "metadata": {},
   "outputs": [
    {
     "name": "stdout",
     "output_type": "stream",
     "text": [
      "Enter h : 5\n",
      "Enter b : 10\n",
      "Area = 25.0\n"
     ]
    }
   ],
   "source": [
    "h = int(input(\"Enter h : \"))\n",
    "b = int(input(\"Enter b : \"))\n",
    "\n",
    "print(\"Area =\",(0.5*h*b))"
   ]
  },
  {
   "cell_type": "markdown",
   "metadata": {},
   "source": [
    "### 10) WAP to convert degree to Fahrenheit and vice versa."
   ]
  },
  {
   "cell_type": "code",
   "execution_count": 14,
   "metadata": {},
   "outputs": [
    {
     "name": "stdout",
     "output_type": "stream",
     "text": [
      "Enter Degeree : 5\n",
      "5°C = 41.0°F\n"
     ]
    }
   ],
   "source": [
    "d = int(input(\"Enter Degeree : \"))\n",
    "f = (d*(9/5))+32\n",
    "print(f\"{d}°C = {f}°F\")\n",
    "\n",
    "# (ii) Fahrenheit to Degree\n",
    "f = int(input(\"Enter Fahrenheit : \"))\n",
    "d = (f-32)*(5/9)\n",
    "print(f\"{f}°F = {d}°C\")\n",
    "    "
   ]
  },
  {
   "cell_type": "markdown",
   "metadata": {},
   "source": [
    "### 11) WAP to calculate total marks and Percentage."
   ]
  },
  {
   "cell_type": "code",
   "execution_count": null,
   "metadata": {},
   "outputs": [],
   "source": [
    "m1 = int(input(\"Enter marks of 1st Subject : \"))\n",
    "m2 = int(input(\"Enter marks of 2nd Subject : \"))\n",
    "m3 = int(input(\"Enter marks of 3rd Subject : \"))\n",
    "\n",
    "print(\"Total marks =\",m1+m2+m3)\n",
    "print(\"Percentage =\",(m1+m2+m3)/3,\"%\")"
   ]
  },
  {
   "cell_type": "markdown",
   "metadata": {},
   "source": [
    "### 12) Compute distance between two points taking input from the user (Pythagorean Theorem)."
   ]
  },
  {
   "cell_type": "code",
   "execution_count": null,
   "metadata": {},
   "outputs": [],
   "source": [
    "import math\n",
    "\n",
    "x1 = int(input(\"Enter x1 : \"))\n",
    "y1 = int(input(\"Enter y1 : \"))\n",
    "x2 = int(input(\"Enter x2 : \"))\n",
    "y2 = int(input(\"Enter y2 : \"))\n",
    "\n",
    "d = math.sqrt(math.pow((x2-x1),2)+math.pow((y2-y1),2))\n",
    "print(\"Distance =\",d)"
   ]
  },
  {
   "cell_type": "markdown",
   "metadata": {},
   "source": [
    "### 13) WAP to convert seconds into hours, minutes & seconds and print in HH:MM:SS\n",
    "[e.g. 10000 seconds mean 2:46:40 (2 Hours, 46 Minutes, 40Seconds)]"
   ]
  },
  {
   "cell_type": "code",
   "execution_count": null,
   "metadata": {},
   "outputs": [],
   "source": [
    "s = int(input(\"Enter second : \"))\n",
    "m = int(s/60)\n",
    "h = int(m/60)\n",
    "s = s%60\n",
    "m= m%60\n",
    "print(f\"{h}:{m}:{s}\")"
   ]
  },
  {
   "cell_type": "markdown",
   "metadata": {},
   "source": [
    "### 14) WAP to enter distance into kilometer and convert it into meter, feet,inches, and centimeter"
   ]
  },
  {
   "cell_type": "code",
   "execution_count": 19,
   "metadata": {},
   "outputs": [
    {
     "name": "stdout",
     "output_type": "stream",
     "text": [
      "Enter distance into kilometer : 1000\n",
      "1000 km = 1000000m\n",
      "1000 km = 3281000ft\n",
      "1000 km = 39370000inch\n",
      "1000 km = 100000000cm\n"
     ]
    }
   ],
   "source": [
    "km = int(input(\"Enter distance into kilometer : \"))\n",
    "meter = km*1000\n",
    "feet = km*3281\n",
    "inch = km*39370\n",
    "cm = km*100000\n",
    "\n",
    "print(f\"{km} km = {meter}m\")\n",
    "print(f\"{km} km = {feet}ft\")\n",
    "print(f\"{km} km = {inch}inch\")\n",
    "print(f\"{km} km = {cm}cm\")"
   ]
  },
  {
   "cell_type": "code",
   "execution_count": null,
   "metadata": {},
   "outputs": [],
   "source": []
  }
 ],
 "metadata": {
  "kernelspec": {
   "display_name": "Python 3 (ipykernel)",
   "language": "python",
   "name": "python3"
  },
  "language_info": {
   "codemirror_mode": {
    "name": "ipython",
    "version": 3
   },
   "file_extension": ".py",
   "mimetype": "text/x-python",
   "name": "python",
   "nbconvert_exporter": "python",
   "pygments_lexer": "ipython3",
   "version": "3.9.13"
  }
 },
 "nbformat": 4,
 "nbformat_minor": 4
}
